{
 "cells": [
  {
   "cell_type": "code",
   "execution_count": 2,
   "id": "d33fd5c7",
   "metadata": {},
   "outputs": [],
   "source": [
    "import json\n",
    "import cv2\n",
    "with open(\"annotation_train.odgt\", 'r') as fid:\n",
    "    lines = fid.readlines()\n",
    "    records = [json.loads(line.strip('\\n')) for line in lines]  # str to list\n"
   ]
  },
  {
   "cell_type": "code",
   "execution_count": null,
   "id": "7091a238",
   "metadata": {},
   "outputs": [],
   "source": []
  },
  {
   "cell_type": "code",
   "execution_count": 9,
   "id": "f08eaa76",
   "metadata": {},
   "outputs": [
    {
     "ename": "SyntaxError",
     "evalue": "EOL while scanning string literal (<ipython-input-9-3c00938cc96f>, line 12)",
     "output_type": "error",
     "traceback": [
      "\u001b[0;36m  File \u001b[0;32m\"<ipython-input-9-3c00938cc96f>\"\u001b[0;36m, line \u001b[0;32m12\u001b[0m\n\u001b[0;31m    print( file_name in os.listdir(\"CrowdHuman_train01/Images/))\u001b[0m\n\u001b[0m                                                                ^\u001b[0m\n\u001b[0;31mSyntaxError\u001b[0m\u001b[0;31m:\u001b[0m EOL while scanning string literal\n"
     ]
    }
   ],
   "source": [
    "from PIL import Image\n",
    "record_list = len(records)\n",
    "print(record_list)\n",
    "categories = {}\n",
    "count =0\n",
    "categories['person']=0\n",
    "for i in range(record_list):\n",
    "    txt_name = \"./CrowdHuman_train01/labels/\" + records[i]['ID'] + '.txt'\n",
    "    file_name = records[i]['ID'] + '.jpg'\n",
    "         #print(i)\n",
    "    try:    \n",
    "        print( file_name in os.listdir(\"CrowdHuman_train01/Images/))\n",
    "        im = cv2.imread(\"CrowdHuman_train01/Images/\" + file_name)\n",
    "        print(im)\n",
    "#         height = im.size[1]\n",
    "#         width = im.size[0]\n",
    "#         file = open(txt_name, 'w')\n",
    "        gt_box = records[i]['gtboxes']\n",
    "        gt_box_len = len(gt_box)  #  There are several records in GTBOXES, and records are extracted separately.\n",
    "        for j in range(gt_box_len):\n",
    "            category = gt_box[j]['tag']\n",
    "            if category not in categories:  #  This type is not in categories, add it to\n",
    "                continue\n",
    "            category_id = categories[category]  #  Reubmet it to the category ID\n",
    "            fbox = gt_box[j]['fbox']  #  Get a whole body box\n",
    "            cv2.rectangle(im, (fbox[0],fbox[1]),(fbox[0]+fbox[2],fbox[1]+fbox[3]),(255,0,0),2)\n",
    "#             norm_x = fbox[0] / width\n",
    "#             norm_y = fbox[1] / height\n",
    "#             norm_w = fbox[2] / width\n",
    "#             norm_h = fbox[3] / height\n",
    "#             norm_x = 0 if norm_x <= 0 else norm_x\n",
    "#             norm_x = 1 if norm_x >= 1 else norm_x\n",
    "#             norm_y = 0 if norm_y <= 0 else norm_y\n",
    "#             norm_y = 1 if norm_y >= 1 else norm_y\n",
    "#             norm_w = 0 if norm_w <= 0 else norm_w\n",
    "#             norm_w = 1 if norm_w >= 1 else norm_w\n",
    "#             norm_h = 0 if norm_h <= 0 else norm_h\n",
    "#             norm_h = 1 if norm_h >= 1 else norm_h\n",
    "            cv2.imshow(\"frame\",im)\n",
    "            cv2.waitKey(0)\n",
    "#             file.write(str(category_id) +\" \"+ str(norm_x)+\" \"+ str(norm_y)+\" \"+ str(norm_w)+\" \"+ str(norm_h)+\"\\n\")\n",
    "#         file.close()\n",
    "        \n",
    "    except Exception as e:\n",
    "        count+=1\n",
    "        print(count)\n",
    "        print(e)\n",
    "\n"
   ]
  },
  {
   "cell_type": "code",
   "execution_count": 7,
   "id": "b74d6dd6",
   "metadata": {},
   "outputs": [
    {
     "name": "stdout",
     "output_type": "stream",
     "text": [
      "None\n",
      "OpenCV(4.5.3) /tmp/pip-req-build-dwj9trv5/opencv/modules/highgui/src/window.cpp:1006: error: (-215:Assertion failed) size.width>0 && size.height>0 in function 'imshow'\n",
      "\n"
     ]
    }
   ],
   "source": [
    "txt_name = \"./CrowdHuman_train01/labels/\" + records[0]['ID'] + '.txt'\n",
    "file_name = records[0]['ID'] + '.jpg'\n",
    "     #print(i)\n",
    "try:    \n",
    "    im = cv2.imread(\"./CrowdHuman_train01/Images/273271,1a0d6000b9e1f5b7.jpg\")\n",
    "    print(im)\n",
    "#         height = im.size[1]\n",
    "#         width = im.size[0]\n",
    "#         file = open(txt_name, 'w')\n",
    "    gt_box = records[0]['gtboxes']\n",
    "    gt_box_len = len(gt_box)  #  There are several records in GTBOXES, and records are extracted separately.\n",
    "    for j in range(gt_box_len):\n",
    "#         category = gt_box[j]['tag']\n",
    "#         if category not in categories:  #  This type is not in categories, add it to\n",
    "#             continue\n",
    "#         category_id = categories[category]  #  Reubmet it to the category ID\n",
    "        fbox = gt_box[j]['fbox']  #  Get a whole body box\n",
    "        cv2.rectangle(im, (fbox[0],fbox[1]),(fbox[0]+fbox[2],fbox[1]+fbox[3]),(255,0,0),2)\n",
    "#             norm_x = fbox[0] / width\n",
    "#             norm_y = fbox[1] / height\n",
    "#             norm_w = fbox[2] / width\n",
    "#             norm_h = fbox[3] / height\n",
    "#             norm_x = 0 if norm_x <= 0 else norm_x\n",
    "#             norm_x = 1 if norm_x >= 1 else norm_x\n",
    "#             norm_y = 0 if norm_y <= 0 else norm_y\n",
    "#             norm_y = 1 if norm_y >= 1 else norm_y\n",
    "#             norm_w = 0 if norm_w <= 0 else norm_w\n",
    "#             norm_w = 1 if norm_w >= 1 else norm_w\n",
    "#             norm_h = 0 if norm_h <= 0 else norm_h\n",
    "#             norm_h = 1 if norm_h >= 1 else norm_h\n",
    "        cv2.imshow(\"frame\",im)\n",
    "        cv2.waitKey(0)\n",
    "#             file.write(str(category_id) +\" \"+ str(norm_x)+\" \"+ str(norm_y)+\" \"+ str(norm_w)+\" \"+ str(norm_h)+\"\\n\")\n",
    "#         file.close()\n",
    "\n",
    "except Exception as e:\n",
    "\n",
    "    print(e)\n",
    "\n"
   ]
  },
  {
   "cell_type": "code",
   "execution_count": 8,
   "id": "d38f18f8",
   "metadata": {},
   "outputs": [
    {
     "data": {
      "text/plain": [
       "{'ID': '284193,faa9000f2678b5e',\n",
       " 'gtboxes': [{'tag': 'person',\n",
       "   'hbox': [123, 129, 63, 64],\n",
       "   'head_attr': {'ignore': 0, 'occ': 1, 'unsure': 0},\n",
       "   'fbox': [61, 123, 191, 453],\n",
       "   'vbox': [62, 126, 154, 446],\n",
       "   'extra': {'box_id': 0, 'occ': 1}},\n",
       "  {'tag': 'person',\n",
       "   'hbox': [214, 97, 58, 74],\n",
       "   'head_attr': {'ignore': 0, 'occ': 1, 'unsure': 0},\n",
       "   'fbox': [165, 95, 187, 494],\n",
       "   'vbox': [175, 95, 140, 487],\n",
       "   'extra': {'box_id': 1, 'occ': 1}},\n",
       "  {'tag': 'person',\n",
       "   'hbox': [318, 109, 58, 68],\n",
       "   'head_attr': {'ignore': 0, 'occ': 1, 'unsure': 0},\n",
       "   'fbox': [236, 104, 195, 493],\n",
       "   'vbox': [260, 106, 170, 487],\n",
       "   'extra': {'box_id': 2, 'occ': 1}},\n",
       "  {'tag': 'person',\n",
       "   'hbox': [486, 119, 61, 74],\n",
       "   'head_attr': {'ignore': 0, 'occ': 0, 'unsure': 0},\n",
       "   'fbox': [452, 110, 169, 508],\n",
       "   'vbox': [455, 113, 141, 501],\n",
       "   'extra': {'box_id': 3, 'occ': 1}},\n",
       "  {'tag': 'person',\n",
       "   'hbox': [559, 105, 53, 57],\n",
       "   'head_attr': {'ignore': 0, 'occ': 0, 'unsure': 0},\n",
       "   'fbox': [520, 95, 163, 381],\n",
       "   'vbox': [553, 98, 70, 118],\n",
       "   'extra': {'box_id': 4, 'occ': 1}},\n",
       "  {'tag': 'person',\n",
       "   'hbox': [596, 40, 72, 83],\n",
       "   'head_attr': {'ignore': 0, 'occ': 0, 'unsure': 0},\n",
       "   'fbox': [546, 39, 202, 594],\n",
       "   'vbox': [556, 39, 171, 588],\n",
       "   'extra': {'box_id': 5, 'occ': 1}},\n",
       "  {'tag': 'person',\n",
       "   'hbox': [731, 139, 69, 83],\n",
       "   'head_attr': {'ignore': 0, 'occ': 0, 'unsure': 0},\n",
       "   'fbox': [661, 132, 183, 510],\n",
       "   'vbox': [661, 132, 183, 510],\n",
       "   'extra': {'box_id': 6, 'occ': 0}}]}"
      ]
     },
     "execution_count": 8,
     "metadata": {},
     "output_type": "execute_result"
    }
   ],
   "source": [
    "records[0]"
   ]
  },
  {
   "cell_type": "code",
   "execution_count": null,
   "id": "9554604d",
   "metadata": {},
   "outputs": [],
   "source": []
  }
 ],
 "metadata": {
  "kernelspec": {
   "display_name": "Python 3",
   "language": "python",
   "name": "python3"
  },
  "language_info": {
   "codemirror_mode": {
    "name": "ipython",
    "version": 3
   },
   "file_extension": ".py",
   "mimetype": "text/x-python",
   "name": "python",
   "nbconvert_exporter": "python",
   "pygments_lexer": "ipython3",
   "version": "3.7.11"
  }
 },
 "nbformat": 4,
 "nbformat_minor": 5
}
